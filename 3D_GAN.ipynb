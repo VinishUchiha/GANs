{
  "nbformat": 4,
  "nbformat_minor": 0,
  "metadata": {
    "colab": {
      "name": "3D-GAN.ipynb",
      "provenance": [],
      "collapsed_sections": [],
      "authorship_tag": "ABX9TyNFHaEj36O0LAJUUeUpmhJ7",
      "include_colab_link": true
    },
    "kernelspec": {
      "name": "python3",
      "display_name": "Python 3"
    },
    "accelerator": "GPU"
  },
  "cells": [
    {
      "cell_type": "markdown",
      "metadata": {
        "id": "view-in-github",
        "colab_type": "text"
      },
      "source": [
        "<a href=\"https://colab.research.google.com/github/VinishUchiha/GenerativeModelling/blob/master/3D_GAN.ipynb\" target=\"_parent\"><img src=\"https://colab.research.google.com/assets/colab-badge.svg\" alt=\"Open In Colab\"/></a>"
      ]
    },
    {
      "cell_type": "code",
      "metadata": {
        "id": "NahDuVGDermO",
        "colab_type": "code",
        "outputId": "a4a87d5f-2a08-4323-faf2-449a9961f14a",
        "colab": {
          "base_uri": "https://localhost:8080/",
          "height": 34
        }
      },
      "source": [
        "import glob\n",
        "import os\n",
        "import time\n",
        "\n",
        "import numpy as np\n",
        "import scipy.io as io\n",
        "import scipy.ndimage as nd\n",
        "import tensorflow as tf\n",
        "from keras import Sequential\n",
        "from keras.callbacks import TensorBoard\n",
        "from keras.layers import Input\n",
        "from keras.layers.advanced_activations import LeakyReLU\n",
        "from keras.layers.convolutional import Conv3D, Deconv3D\n",
        "from keras.layers.core import Activation\n",
        "from keras.layers.normalization import BatchNormalization\n",
        "from keras.models import Model\n",
        "from keras.optimizers import Adam\n",
        "from mpl_toolkits.mplot3d import Axes3D\n",
        "import matplotlib\n",
        "import matplotlib.pyplot as plt"
      ],
      "execution_count": 1,
      "outputs": [
        {
          "output_type": "stream",
          "text": [
            "Using TensorFlow backend.\n"
          ],
          "name": "stderr"
        }
      ]
    },
    {
      "cell_type": "code",
      "metadata": {
        "id": "OZyyarXJkhX-",
        "colab_type": "code",
        "colab": {
          "base_uri": "https://localhost:8080/",
          "height": 208
        },
        "outputId": "e98dc694-3303-4ab1-f977-555cdf56e668"
      },
      "source": [
        "!wget http://3dshapenets.cs.princeton.edu/3DShapeNetsCode.zip"
      ],
      "execution_count": 2,
      "outputs": [
        {
          "output_type": "stream",
          "text": [
            "--2020-05-15 16:03:37--  http://3dshapenets.cs.princeton.edu/3DShapeNetsCode.zip\n",
            "Resolving 3dshapenets.cs.princeton.edu (3dshapenets.cs.princeton.edu)... 128.112.136.51\n",
            "Connecting to 3dshapenets.cs.princeton.edu (3dshapenets.cs.princeton.edu)|128.112.136.51|:80... connected.\n",
            "HTTP request sent, awaiting response... 200 OK\n",
            "Length: 533450062 (509M) [application/zip]\n",
            "Saving to: ‘3DShapeNetsCode.zip’\n",
            "\n",
            "3DShapeNetsCode.zip 100%[===================>] 508.74M  36.8MB/s    in 15s     \n",
            "\n",
            "2020-05-15 16:03:52 (34.6 MB/s) - ‘3DShapeNetsCode.zip’ saved [533450062/533450062]\n",
            "\n"
          ],
          "name": "stdout"
        }
      ]
    },
    {
      "cell_type": "code",
      "metadata": {
        "id": "D_Xz4-fGkvRc",
        "colab_type": "code",
        "colab": {}
      },
      "source": [
        "!unzip 3DShapeNetsCode.zip"
      ],
      "execution_count": 0,
      "outputs": []
    },
    {
      "cell_type": "code",
      "metadata": {
        "id": "X_pvNcQqrYWx",
        "colab_type": "code",
        "colab": {}
      },
      "source": [
        "#!wget http://modelnet.cs.princeton.edu/ModelNet40.zip"
      ],
      "execution_count": 0,
      "outputs": []
    },
    {
      "cell_type": "code",
      "metadata": {
        "id": "wZ2FN7Sbr8Y_",
        "colab_type": "code",
        "colab": {}
      },
      "source": [
        "#!unzip ModelNet40.zip"
      ],
      "execution_count": 0,
      "outputs": []
    },
    {
      "cell_type": "code",
      "metadata": {
        "id": "CVQfJhMCtESU",
        "colab_type": "code",
        "colab": {}
      },
      "source": [
        "#Load Datasets\n",
        "def get3DImages(data_dir):\n",
        "    all_files = np.random.choice(glob.glob(data_dir), size=10)\n",
        "    # all_files = glob.glob(data_dir)\n",
        "    all_volumes = np.asarray([getVoxelsFromMat(f) for f in all_files], dtype=np.bool)\n",
        "    return all_volumes"
      ],
      "execution_count": 0,
      "outputs": []
    },
    {
      "cell_type": "code",
      "metadata": {
        "id": "nNdhrNZBtEFD",
        "colab_type": "code",
        "colab": {}
      },
      "source": [
        "def getVoxelsFromMat(path, cube_len=64):\n",
        "    voxels = io.loadmat(path)['instance']\n",
        "    voxels = np.pad(voxels, (1, 1), 'constant', constant_values=(0, 0))\n",
        "    if cube_len != 32 and cube_len == 64:\n",
        "        voxels = nd.zoom(voxels, (2, 2, 2), mode='constant', order=0)\n",
        "    return voxels"
      ],
      "execution_count": 0,
      "outputs": []
    },
    {
      "cell_type": "code",
      "metadata": {
        "id": "1F0IrzXotD4m",
        "colab_type": "code",
        "colab": {}
      },
      "source": [
        "def saveFromVoxels(voxels, path):\n",
        "    z, x, y = voxels.nonzero()\n",
        "    fig = plt.figure()\n",
        "    ax = fig.add_subplot(111, projection='3d')\n",
        "    ax.scatter(x, y, -z, zdir='z', c='red')\n",
        "    plt.savefig(path)"
      ],
      "execution_count": 0,
      "outputs": []
    },
    {
      "cell_type": "code",
      "metadata": {
        "id": "W6f_6DqPtSsp",
        "colab_type": "code",
        "colab": {}
      },
      "source": [
        "def plotAndSaveVoxel(file_path, voxel):\n",
        "    \"\"\"\n",
        "    Plot a voxel\n",
        "    \"\"\"\n",
        "    fig = plt.figure()\n",
        "    ax = fig.gca(projection='3d')\n",
        "    ax.set_aspect('equal')\n",
        "    ax.voxels(voxel, edgecolor=\"red\")\n",
        "    # plt.show()\n",
        "    plt.savefig(file_path)"
      ],
      "execution_count": 0,
      "outputs": []
    },
    {
      "cell_type": "code",
      "metadata": {
        "id": "qKpRFEV9sNEP",
        "colab_type": "code",
        "colab": {}
      },
      "source": [
        "def Generator():\n",
        "  z_size = 200\n",
        "  gen_filters = [512,256,128,64,1]\n",
        "  gen_kernel_sizes = [4,4,4,4,4]\n",
        "  gen_strides = [1,2,2,2,2]\n",
        "  gen_input_shape = (1,1,1,z_size)\n",
        "  gen_activations = ['relu','relu','relu','relu','sigmoid']\n",
        "  gen_conv_blocks = 5\n",
        "\n",
        "  input_layer = Input(shape = gen_input_shape)\n",
        "\n",
        "  x = Deconv3D(filters = gen_filters[0],kernel_size=gen_kernel_sizes[0],\n",
        "               strides=gen_strides[0])(input_layer)\n",
        "  x = BatchNormalization()(x,training=True)\n",
        "  x = Activation(activation='relu')(x)\n",
        "\n",
        "  for i in range(gen_conv_blocks-1):\n",
        "    x = Deconv3D(filters = gen_filters[i+1],kernel_size=gen_kernel_sizes[i+1],\n",
        "                 strides=gen_strides[i+1],padding='same')(x)\n",
        "    x = BatchNormalization()(x,training=True)\n",
        "    x = Activation(activation = gen_activations[i+1])(x)\n",
        "\n",
        "  gen_model = Model(inputs = input_layer,outputs=x)\n",
        "  return gen_model"
      ],
      "execution_count": 0,
      "outputs": []
    },
    {
      "cell_type": "code",
      "metadata": {
        "id": "_ndmzTFve9gE",
        "colab_type": "code",
        "colab": {}
      },
      "source": [
        "def Discriminator():\n",
        "\n",
        "  dis_input_shape = (64,64,64,1)\n",
        "  dis_filters = [64,128,256,512,1]\n",
        "  dis_kernel_sizes = [4,4,4,4,4]\n",
        "  dis_strides = [2,2,2,2,1]\n",
        "  dis_paddings = ['same','same','same','same','valid']\n",
        "  dis_alphas = [0.2,0.2,0.2,0.2,0.2]\n",
        "  dis_activations = ['leaky_relu','leaky_relu','leaky_relu','leaky_relu','sigmoid']\n",
        "  dis_conv_blocks = 5\n",
        "\n",
        "  input_layer = Input(shape=dis_input_shape)\n",
        "\n",
        "  x = Conv3D(filters=dis_filters[0],kernel_size=dis_kernel_sizes[0],\n",
        "             strides=dis_strides[0],padding=dis_paddings[0])(input_layer)\n",
        "  x = BatchNormalization()(x,training=True)\n",
        "  x = LeakyReLU(dis_alphas[0])(x)\n",
        "\n",
        "  for i in range(dis_conv_blocks-1):\n",
        "    x = Conv3D(filters=dis_filters[i+1],kernel_size=dis_kernel_sizes[i+1],\n",
        "               strides=dis_strides[i+1],padding=dis_paddings[i+1])(x)\n",
        "    x = BatchNormalization()(x,training=True)\n",
        "    if dis_activations[i+1]=='leaky_relu':\n",
        "      x = LeakyReLU(dis_alphas[i+1])(x)\n",
        "    elif dis_activations[i+1]=='sigmoid':\n",
        "      x = Activation(activation='sigmoid')(x)\n",
        "  \n",
        "  dis_model = Model(inputs = input_layer,outputs=x)\n",
        "  return dis_model\n",
        "\n"
      ],
      "execution_count": 0,
      "outputs": []
    },
    {
      "cell_type": "code",
      "metadata": {
        "id": "hpg5I9Cyj6-g",
        "colab_type": "code",
        "colab": {}
      },
      "source": [
        "#training\n",
        "gen_learning_rate = 0.0025\n",
        "dis_learning_rate = 0.00001\n",
        "beta = 0.5\n",
        "batch_size = 1\n",
        "z_size = 200\n",
        "epochs = 100\n",
        "obj = 'cup'\n",
        "PATH = '/content/3DShapeNets/volumetric_data/{}/30/train/*.mat'.format(obj)\n",
        "generated_dir = 'generated'\n",
        "log_dir = 'logs'\n",
        "\n",
        "generator = Generator()\n",
        "discriminator = Discriminator()\n",
        "\n",
        "gen_optimizer = Adam(lr = gen_learning_rate,beta_1=beta)\n",
        "dis_optimizer = Adam(lr = dis_learning_rate,beta_1=beta)\n",
        "\n",
        "generator.compile(loss='binary_crossentropy',optimizer=gen_optimizer)\n",
        "discriminator.compile(loss = 'binary_crossentropy',optimizer=dis_optimizer)\n",
        "\n",
        "discriminator.trainable = False\n",
        "\n",
        "input_layer = Input(shape=(1,1,1,z_size))\n",
        "generated = generator(input_layer)\n",
        "validity = discriminator(generated)\n",
        "\n",
        "adversarial_model = Model(inputs=input_layer,outputs=validity)\n",
        "adversarial_model.compile(loss='binary_crossentropy',optimizer=gen_optimizer)\n",
        "\n",
        "print(\"Loading data...\")\n",
        "volumes = get3DImages(PATH)\n",
        "volumes = volumes[..., np.newaxis].astype(np.float)\n",
        "print(\"Data loaded...\")\n",
        "\n",
        "# tensorboard = TensorBoard(log_dir=\"logs/{}\".format(time.time()))\n",
        "# tensorboard.set_model(generator)\n",
        "# tensorboard.set_model(discriminator)\n",
        "\n",
        "labels_real = np.reshape(np.ones((batch_size,)), (-1, 1, 1, 1, 1))\n",
        "labels_fake = np.reshape(np.zeros((batch_size,)), (-1, 1, 1, 1, 1))\n",
        "\n",
        "for epoch in range(1,epochs+1):\n",
        "  print('Epoch:',epoch)\n",
        "\n",
        "  gen_losses = []\n",
        "  dis_losses = []\n",
        "\n",
        "  num_of_batches = int(volumes.shape[0]/batch_size)\n",
        "  print('Number of Batches :',num_of_batches)\n",
        "  for index in range(num_of_batches):\n",
        "    print('Batch:',index+1)\n",
        "\n",
        "    z_sample = np.random.normal(0, 0.33, size=[batch_size, 1, 1, 1, z_size]).astype(np.float32)\n",
        "    volumes_batch = volumes[index * batch_size:(index + 1) * batch_size, :, :, :]\n",
        "\n",
        "    gen_volumes = generator.predict_on_batch(z_sample)\n",
        "\n",
        "    #Train the Discriminator\n",
        "    discriminator.trainable = True\n",
        "    if index%2==0:\n",
        "      loss_real = discriminator.train_on_batch(volumes_batch,labels_real)\n",
        "      loss_fake = discriminator.train_on_batch(gen_volumes,labels_fake)\n",
        "      d_loss = 0.5 * np.add(loss_real,loss_fake)\n",
        "      print('d_loss:{}'.format(d_loss))\n",
        "    else:\n",
        "      d_loss = 0.0\n",
        "    \n",
        "    discriminator.trainable = False\n",
        "    z = np.random.normal(0, 0.33, size=[batch_size, 1, 1, 1, z_size]).astype(np.float32)\n",
        "    g_loss = adversarial_model.train_on_batch(z,labels_real)\n",
        "    print('g_loss:{}'.format(g_loss))\n",
        "\n",
        "    gen_losses.append(g_loss)\n",
        "    dis_losses.append(d_loss)\n",
        "\n",
        "    # Every 10th mini-batch, generate volumes and save them\n",
        "    if index%10 ==0:\n",
        "      z_sample2 = np.random.normal(0, 0.33, size=[batch_size, 1, 1, 1, z_size]).astype(np.float32)\n",
        "      generated_volumes = generator.predict(z_sample2, verbose=3)\n",
        "      for i, generated_volume in enumerate(generated_volumes[:5]):\n",
        "        voxels = np.squeeze(generated_volume)\n",
        "        voxels[voxels < 0.5] = 0.\n",
        "        voxels[voxels >= 0.5] = 1.\n",
        "        saveFromVoxels(voxels, \"results/img_{}_{}_{}\".format(epoch, index, i))\n",
        "\n",
        "\n",
        "generator.save_weights(os.path.join('models','generator_weights.h5'))\n",
        "discriminator.save_weights(os.path.join('models','discriminator_weights.h5'))"
      ],
      "execution_count": 0,
      "outputs": []
    },
    {
      "cell_type": "code",
      "metadata": {
        "id": "UiiU9OQ7j65k",
        "colab_type": "code",
        "colab": {}
      },
      "source": [
        ""
      ],
      "execution_count": 0,
      "outputs": []
    }
  ]
}